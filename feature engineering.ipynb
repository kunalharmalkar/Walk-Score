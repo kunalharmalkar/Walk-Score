{
 "cells": [
  {
   "cell_type": "code",
   "execution_count": 1,
   "metadata": {},
   "outputs": [],
   "source": [
    "# import libraries\n",
    "import os\n",
    "import geopandas as gpd\n",
    "import pandas as pd\n",
    "import numpy as np\n",
    "import osmnx as ox\n",
    "import requests\n",
    "import time\n",
    "import matplotlib.pyplot as plt\n",
    "import seaborn as sns\n",
    "from shapely.geometry import Point, MultiPoint\n",
    "from shapely.ops import nearest_points\n",
    "from shapely import wkt\n",
    "import itertools\n",
    "from street_features import *"
   ]
  },
  {
   "cell_type": "markdown",
   "metadata": {},
   "source": [
    "# Importing Randomly Created Coordinates data for Feature Engineering"
   ]
  },
  {
   "cell_type": "markdown",
   "metadata": {},
   "source": [
    "## Open Street Maps"
   ]
  },
  {
   "cell_type": "code",
   "execution_count": 2,
   "metadata": {},
   "outputs": [],
   "source": [
    "## Import Seattle street and map data\n",
    "Seattle_poly = ox.gdf_from_place('Seattle, Washington')\n",
    "\n",
    "# grab street data (roads and intersections) for entire city\n",
    "sea_streets = ox.graph_from_place('Seattle, Washington', network_type = 'drive')\n",
    "nodes, edges = ox.graph_to_gdfs(sea_streets)"
   ]
  },
  {
   "cell_type": "code",
   "execution_count": 3,
   "metadata": {},
   "outputs": [],
   "source": [
    "#remove doubled road IDs, this is only 20 roads out of 22335, but they cause subsetting problems\n",
    "sea_rds = remove_doubleID_streets(edges)\n",
    "\n",
    "# grab subsets of roadtypes\n",
    "sea_highways = sea_rds[sea_rds.highway == 'motorway']\n",
    "sea_primary = sea_rds[sea_rds.highway == 'primary']\n",
    "sea_secondary = sea_rds[sea_rds.highway == 'secondary']\n",
    "sea_resid = sea_rds[sea_rds.highway == 'residential']"
   ]
  },
  {
   "cell_type": "markdown",
   "metadata": {},
   "source": [
    "## Convert data to Geopandas frame and Subset on Seattle polygon grid"
   ]
  },
  {
   "cell_type": "code",
   "execution_count": 36,
   "metadata": {},
   "outputs": [
    {
     "data": {
      "text/html": [
       "<div>\n",
       "<style scoped>\n",
       "    .dataframe tbody tr th:only-of-type {\n",
       "        vertical-align: middle;\n",
       "    }\n",
       "\n",
       "    .dataframe tbody tr th {\n",
       "        vertical-align: top;\n",
       "    }\n",
       "\n",
       "    .dataframe thead th {\n",
       "        text-align: right;\n",
       "    }\n",
       "</style>\n",
       "<table border=\"1\" class=\"dataframe\">\n",
       "  <thead>\n",
       "    <tr style=\"text-align: right;\">\n",
       "      <th></th>\n",
       "      <th>lat</th>\n",
       "      <th>lon</th>\n",
       "      <th>walk_score</th>\n",
       "      <th>geometry</th>\n",
       "      <th>place_name</th>\n",
       "    </tr>\n",
       "  </thead>\n",
       "  <tbody>\n",
       "    <tr>\n",
       "      <th>0</th>\n",
       "      <td>47.693792</td>\n",
       "      <td>-122.312816</td>\n",
       "      <td>67</td>\n",
       "      <td>POINT (-122.3128161896134 47.69379169576278)</td>\n",
       "      <td>Seattle, King County, Washington, USA</td>\n",
       "    </tr>\n",
       "    <tr>\n",
       "      <th>1</th>\n",
       "      <td>47.673859</td>\n",
       "      <td>-122.341078</td>\n",
       "      <td>35</td>\n",
       "      <td>POINT (-122.3410775145169 47.67385884412313)</td>\n",
       "      <td>Seattle, King County, Washington, USA</td>\n",
       "    </tr>\n",
       "    <tr>\n",
       "      <th>2</th>\n",
       "      <td>47.693318</td>\n",
       "      <td>-122.338032</td>\n",
       "      <td>63</td>\n",
       "      <td>POINT (-122.3380317656147 47.69331844878893)</td>\n",
       "      <td>Seattle, King County, Washington, USA</td>\n",
       "    </tr>\n",
       "  </tbody>\n",
       "</table>\n",
       "</div>"
      ],
      "text/plain": [
       "         lat         lon  walk_score  \\\n",
       "0  47.693792 -122.312816          67   \n",
       "1  47.673859 -122.341078          35   \n",
       "2  47.693318 -122.338032          63   \n",
       "\n",
       "                                       geometry  \\\n",
       "0  POINT (-122.3128161896134 47.69379169576278)   \n",
       "1  POINT (-122.3410775145169 47.67385884412313)   \n",
       "2  POINT (-122.3380317656147 47.69331844878893)   \n",
       "\n",
       "                              place_name  \n",
       "0  Seattle, King County, Washington, USA  \n",
       "1  Seattle, King County, Washington, USA  \n",
       "2  Seattle, King County, Washington, USA  "
      ]
     },
     "execution_count": 36,
     "metadata": {},
     "output_type": "execute_result"
    }
   ],
   "source": [
    "## Import walk_score data, create shapely points, and convert to geopandas dataframe\n",
    "walk_df = pd.read_csv('Data/master_walk_score.csv', index_col=0)\n",
    "\n",
    "\n",
    "\n",
    "\n",
    "geometry = [Point(xy) for xy in zip(walk_df.lon, walk_df.lat)]\n",
    "walk_gdf = gpd.GeoDataFrame(walk_df, geometry=geometry, crs={'init' :'epsg:4326'})\n",
    "\n",
    "\n",
    "#subset walk_score data in Seattle polygon grid\n",
    "EDF_points = gpd.sjoin(walk_gdf, Seattle_poly, how=\"inner\", op=\"intersects\")\n",
    "EDF_points = EDF_points.rename(index=str)\n",
    "\n",
    "EDF_points = EDF_points.reset_index(drop=True)\n",
    "EDF_points = EDF_points.drop(['index_right', 'bbox_east', 'bbox_north', 'bbox_south', 'bbox_west'], axis=1)\n",
    "EDF_points.head(3)"
   ]
  },
  {
   "cell_type": "markdown",
   "metadata": {},
   "source": [
    "## Census data"
   ]
  },
  {
   "cell_type": "code",
   "execution_count": 5,
   "metadata": {},
   "outputs": [],
   "source": [
    "# Import Census data\n",
    "WA_tracts = pd.read_csv('Data/all_demographics.csv') \n",
    "WA_tracts['geometry'] = WA_tracts['geometry'].apply(wkt.loads)\n",
    "WA_tracts = gpd.GeoDataFrame(WA_tracts, geometry = WA_tracts['geometry'], crs={'init' :'epsg:2927'})\n",
    "WA_tracts = WA_tracts.drop(['Unnamed: 0'], axis = 1)"
   ]
  },
  {
   "cell_type": "code",
   "execution_count": 6,
   "metadata": {},
   "outputs": [
    {
     "name": "stdout",
     "output_type": "stream",
     "text": [
      "<class 'geopandas.geodataframe.GeoDataFrame'>\n",
      "RangeIndex: 398 entries, 0 to 397\n",
      "Data columns (total 18 columns):\n",
      "GEOID10       398 non-null int64\n",
      "POP10         398 non-null int64\n",
      "ALANDMI       398 non-null float64\n",
      "OBJECTID      398 non-null int64\n",
      "STATEFP10     398 non-null int64\n",
      "COUNTYFP10    398 non-null int64\n",
      "TRACTCE10     398 non-null int64\n",
      "NAME10        398 non-null float64\n",
      "NAMELSAD10    398 non-null object\n",
      "MTFCC10       398 non-null object\n",
      "FUNCSTAT10    398 non-null object\n",
      "ALAND10       398 non-null float64\n",
      "AWATER10      398 non-null float64\n",
      "INTPTLAT10    398 non-null float64\n",
      "INTPTLON10    398 non-null float64\n",
      "Shape_Leng    398 non-null float64\n",
      "Shape_Area    398 non-null float64\n",
      "geometry      398 non-null object\n",
      "dtypes: float64(8), int64(6), object(4)\n",
      "memory usage: 56.0+ KB\n"
     ]
    }
   ],
   "source": [
    "WA_tracts.info()"
   ]
  },
  {
   "cell_type": "code",
   "execution_count": 7,
   "metadata": {},
   "outputs": [
    {
     "data": {
      "text/plain": [
       "<matplotlib.axes._subplots.AxesSubplot at 0x1a32a0b080>"
      ]
     },
     "execution_count": 7,
     "metadata": {},
     "output_type": "execute_result"
    },
    {
     "data": {
      "image/png": "[encoded data removed]",
      "text/plain": [
       "<Figure size 432x288 with 1 Axes>"
      ]
     },
     "metadata": {
      "needs_background": "light"
     },
     "output_type": "display_data"
    }
   ],
   "source": [
    "WA_tracts.plot()"
   ]
  },
  {
   "cell_type": "code",
   "execution_count": 8,
   "metadata": {},
   "outputs": [
    {
     "data": {
      "text/html": [
       "<div>\n",
       "<style scoped>\n",
       "    .dataframe tbody tr th:only-of-type {\n",
       "        vertical-align: middle;\n",
       "    }\n",
       "\n",
       "    .dataframe tbody tr th {\n",
       "        vertical-align: top;\n",
       "    }\n",
       "\n",
       "    .dataframe thead th {\n",
       "        text-align: right;\n",
       "    }\n",
       "</style>\n",
       "<table border=\"1\" class=\"dataframe\">\n",
       "  <thead>\n",
       "    <tr style=\"text-align: right;\">\n",
       "      <th></th>\n",
       "      <th>GEOID</th>\n",
       "      <th>population</th>\n",
       "      <th>Area in Land Miles</th>\n",
       "      <th>tract</th>\n",
       "      <th>pop_den</th>\n",
       "    </tr>\n",
       "  </thead>\n",
       "  <tbody>\n",
       "    <tr>\n",
       "      <th>0</th>\n",
       "      <td>53033000100</td>\n",
       "      <td>6255</td>\n",
       "      <td>0.738</td>\n",
       "      <td>1.0</td>\n",
       "      <td>8475.609756</td>\n",
       "    </tr>\n",
       "    <tr>\n",
       "      <th>1</th>\n",
       "      <td>53033000200</td>\n",
       "      <td>7646</td>\n",
       "      <td>1.269</td>\n",
       "      <td>2.0</td>\n",
       "      <td>6025.216706</td>\n",
       "    </tr>\n",
       "    <tr>\n",
       "      <th>2</th>\n",
       "      <td>53033000300</td>\n",
       "      <td>2603</td>\n",
       "      <td>0.467</td>\n",
       "      <td>3.0</td>\n",
       "      <td>5573.875803</td>\n",
       "    </tr>\n",
       "  </tbody>\n",
       "</table>\n",
       "</div>"
      ],
      "text/plain": [
       "         GEOID  population  Area in Land Miles  tract      pop_den\n",
       "0  53033000100        6255               0.738    1.0  8475.609756\n",
       "1  53033000200        7646               1.269    2.0  6025.216706\n",
       "2  53033000300        2603               0.467    3.0  5573.875803"
      ]
     },
     "execution_count": 8,
     "metadata": {},
     "output_type": "execute_result"
    }
   ],
   "source": [
    "# drop extraneous columns and rename census variables\n",
    "extra_cols = ['STATEFP10', 'COUNTYFP10', 'ALAND10', 'AWATER10', 'TRACTCE10', 'NAMELSAD10', 'MTFCC10', 'FUNCSTAT10', \n",
    "             'INTPTLAT10', 'INTPTLON10', 'OBJECTID', 'Shape_Leng', 'Shape_Area', 'geometry']\n",
    "\n",
    "WA_tracts = WA_tracts.drop(extra_cols, axis=1)\n",
    "WA_tracts = WA_tracts.rename(index=str, columns = {'GEOID10': 'GEOID','POP10': 'population', 'NAME10': 'tract', \n",
    "                                                   'ALANDMI': 'Area in Land Miles'})\n",
    "\n",
    "# calculate area and population density\n",
    "\n",
    "WA_tracts['pop_den'] = WA_tracts['population'] / WA_tracts['Area in Land Miles']\n",
    "\n",
    "WA_tracts['pop_den'] = WA_tracts['pop_den'].fillna(0)\n",
    "\n",
    "WA_tracts.head(3)"
   ]
  },
  {
   "cell_type": "markdown",
   "metadata": {},
   "source": [
    "## Seattle Zoning Data"
   ]
  },
  {
   "cell_type": "code",
   "execution_count": 9,
   "metadata": {},
   "outputs": [
    {
     "name": "stdout",
     "output_type": "stream",
     "text": [
      "Seattle Zoning Default CRS: {'init': 'epsg:4326'}\n"
     ]
    },
    {
     "data": {
      "text/html": [
       "<div>\n",
       "<style scoped>\n",
       "    .dataframe tbody tr th:only-of-type {\n",
       "        vertical-align: middle;\n",
       "    }\n",
       "\n",
       "    .dataframe tbody tr th {\n",
       "        vertical-align: top;\n",
       "    }\n",
       "\n",
       "    .dataframe thead th {\n",
       "        text-align: right;\n",
       "    }\n",
       "</style>\n",
       "<table border=\"1\" class=\"dataframe\">\n",
       "  <thead>\n",
       "    <tr style=\"text-align: right;\">\n",
       "      <th></th>\n",
       "      <th>ZONEID</th>\n",
       "      <th>CLASS_DESC</th>\n",
       "      <th>geometry</th>\n",
       "    </tr>\n",
       "  </thead>\n",
       "  <tbody>\n",
       "    <tr>\n",
       "      <th>0</th>\n",
       "      <td>2985</td>\n",
       "      <td>Downtown</td>\n",
       "      <td>POLYGON ((-122.3360890199357 47.6002610850185,...</td>\n",
       "    </tr>\n",
       "    <tr>\n",
       "      <th>1</th>\n",
       "      <td>3792</td>\n",
       "      <td>Downtown</td>\n",
       "      <td>POLYGON ((-122.3259675488259 47.59453372968536...</td>\n",
       "    </tr>\n",
       "    <tr>\n",
       "      <th>2</th>\n",
       "      <td>3304</td>\n",
       "      <td>Major Institutions</td>\n",
       "      <td>POLYGON ((-122.2959369227568 47.65522891516646...</td>\n",
       "    </tr>\n",
       "  </tbody>\n",
       "</table>\n",
       "</div>"
      ],
      "text/plain": [
       "   ZONEID          CLASS_DESC  \\\n",
       "0    2985            Downtown   \n",
       "1    3792            Downtown   \n",
       "2    3304  Major Institutions   \n",
       "\n",
       "                                            geometry  \n",
       "0  POLYGON ((-122.3360890199357 47.6002610850185,...  \n",
       "1  POLYGON ((-122.3259675488259 47.59453372968536...  \n",
       "2  POLYGON ((-122.2959369227568 47.65522891516646...  "
      ]
     },
     "execution_count": 9,
     "metadata": {},
     "output_type": "execute_result"
    }
   ],
   "source": [
    "## import zoning data\n",
    "sea_zones = gpd.read_file('/Users/perryjohnson/Desktop/Walkability/Data/Zoning_Detailed/Zoning_Detailed.shp')\n",
    "\n",
    "print('Seattle Zoning Default CRS:', sea_zones.crs)\n",
    "\n",
    "# drop extraneous columns\n",
    "extra_cols = ['OVERLAY', 'CONTRACT', 'OBJECTID', 'ORDINANCE', 'EFFECTIVE', 'HISTORIC', 'SHORELINE', 'PEDESTRIAN',\n",
    "              'MHA', 'MHA_VALUE', 'OVERLAY_PR', 'LIGHTRAIL', 'ZONELUT_DE', 'LIGHTRAIL_',\n",
    "             'EFFECTIVE_', 'PEDESTRI_1', 'SHORELINE_', 'MIO_NAME', 'IZ',\n",
    "             'ZONING_PRE', 'CONTRACT_P', 'HISTORIC_P', 'SHAPE_Leng', 'ORDINANCE_', 'ZONING_DES', \n",
    "             'BZONEID', 'DETAIL_DES', 'CATEGORY_D', 'ZONELUT', 'ZONING', 'BASE_ZONE', 'SHAPE_Area']\n",
    "\n",
    "sea_zones = sea_zones.drop(extra_cols, axis = 1)\n",
    "\n",
    "## remove null polygons (causes issues with merges)\n",
    "sea_zones.shape\n",
    "sea_zones = sea_zones[sea_zones.geometry.notnull()]\n",
    "\n",
    "sea_zones.head(3)"
   ]
  },
  {
   "cell_type": "code",
   "execution_count": 10,
   "metadata": {},
   "outputs": [
    {
     "data": {
      "text/plain": [
       "Commercial/Mixed Use        1262\n",
       "Multi-Family                1243\n",
       "Single Family                434\n",
       "Major Institutions           287\n",
       "Manufacturing/Industrial     220\n",
       "Downtown                      97\n",
       "Master Planned Community       2\n",
       "Name: CLASS_DESC, dtype: int64"
      ]
     },
     "execution_count": 10,
     "metadata": {},
     "output_type": "execute_result"
    }
   ],
   "source": [
    "sea_zones['CLASS_DESC'].value_counts()"
   ]
  },
  {
   "cell_type": "code",
   "execution_count": 11,
   "metadata": {},
   "outputs": [
    {
     "name": "stdout",
     "output_type": "stream",
     "text": [
      "['commercial' 'industrial' 'residential']\n"
     ]
    }
   ],
   "source": [
    "# lots of zoning information that needs to be cleaned into distinct groups\n",
    "# Groups: commercial, industrial, residential\n",
    "\n",
    "sea_zones['zone'] = sea_zones['CLASS_DESC']\n",
    "\n",
    "## zoning designations to be generalized across the Bay Area\n",
    "residential = ['Multi-Family', 'Single Family', 'Master Planned Community']\n",
    "commercial = ['Commercial/Mixed Use', 'Downtown']\n",
    "industrial = ['Major Institutions', 'Manufacturing/Industrial']\n",
    "\n",
    "\n",
    "## simplify down to the above zoning designations\n",
    "sea_zones['zone'] = sea_zones['zone'].replace(dict.fromkeys(residential, 'residential'))\n",
    "sea_zones['zone'] = sea_zones['zone'].replace(dict.fromkeys(commercial, 'commercial'))\n",
    "sea_zones['zone'] = sea_zones['zone'].replace(dict.fromkeys(industrial, 'industrial'))\n",
    "\n",
    "print(sea_zones['zone'].unique())"
   ]
  },
  {
   "cell_type": "markdown",
   "metadata": {},
   "source": [
    "## Road Distance Features"
   ]
  },
  {
   "cell_type": "code",
   "execution_count": 12,
   "metadata": {},
   "outputs": [],
   "source": [
    "#calculate closest road_type for each point within 300 meter buffer\n",
    "EDF_points['road_type'] = EDF_points['geometry'].apply(find_closest_road, \n",
    "                                                       roads = sea_rds, buffer_dist = 0.0030)"
   ]
  },
  {
   "cell_type": "code",
   "execution_count": 13,
   "metadata": {},
   "outputs": [],
   "source": [
    "## Calculate distance to nearest major roadway\n",
    "\n",
    "# much faster to do the re-projection to meters outside of the apply function\n",
    "EDF_utm = EDF_points.to_crs({'init': 'epsg:32610'}).copy()\n",
    "highway_utm = sea_highways.to_crs({'init': 'epsg:32610'}).copy()\n",
    "primary_utm = sea_primary.to_crs({'init': 'epsg:32610'}).copy()\n",
    "secondary_utm = sea_secondary.to_crs({'init': 'epsg:32610'}).copy()\n",
    "\n",
    "EDF_points['closest_highway'] = EDF_utm['geometry'].apply(distance_to_roadway, roadway = highway_utm)\n",
    "EDF_points['closest_primary'] = EDF_utm['geometry'].apply(distance_to_roadway, roadway = primary_utm)\n",
    "EDF_points['closest_secondary'] = EDF_utm['geometry'].apply(distance_to_roadway, roadway = secondary_utm)"
   ]
  },
  {
   "cell_type": "code",
   "execution_count": 14,
   "metadata": {},
   "outputs": [],
   "source": [
    "## Calculate distance to nearest intersection and traffic signals\n",
    "nodes_utm = nodes.to_crs({'init': 'epsg:32610'}).copy() #re-project as above\n",
    "signals = nodes_utm[nodes_utm['highway'] == 'traffic_signals']\n",
    "\n",
    "EDF_points['corner_dist'] = EDF_utm['geometry'].apply(nearest_intersection,\n",
    "                                                            intersections = nodes_utm['geometry'])\n",
    "\n",
    "EDF_points['signal_dist'] = EDF_utm['geometry'].apply(nearest_intersection, \n",
    "                                                               intersections = signals['geometry'])"
   ]
  },
  {
   "cell_type": "code",
   "execution_count": 15,
   "metadata": {},
   "outputs": [],
   "source": [
    "# Cleaning road categories ...\n",
    "EDF_points['road_type'] = EDF_points['road_type'].str.replace('_link', '')\n",
    "EDF_points['road_type'] = np.where(EDF_points['road_type'] == 'trunk', 'secondary', EDF_points['road_type'])\n",
    "EDF_points['road_type'] = np.where(EDF_points['road_type'] == 'living_street', 'residential', EDF_points['road_type'])\n",
    "EDF_points['road_type'] = np.where(EDF_points['road_type'] == 'a', 'unclassified', EDF_points['road_type'])\n",
    "EDF_points['road_type'] = np.where(EDF_points['road_type'] == 'razed', 'unclassified', EDF_points['road_type'])\n"
   ]
  },
  {
   "cell_type": "code",
   "execution_count": 16,
   "metadata": {},
   "outputs": [
    {
     "data": {
      "image/png": "[encoded data removed]",
      "text/plain": [
       "<Figure size 720x288 with 1 Axes>"
      ]
     },
     "metadata": {
      "needs_background": "light"
     },
     "output_type": "display_data"
    }
   ],
   "source": [
    "# Road Type Categories\n",
    "plt.figure(figsize=(10,4))\n",
    "sns.countplot(EDF_points['road_type']);"
   ]
  },
  {
   "cell_type": "markdown",
   "metadata": {},
   "source": [
    "## Census and Zoning Features"
   ]
  },
  {
   "cell_type": "code",
   "execution_count": 17,
   "metadata": {},
   "outputs": [
    {
     "data": {
      "image/png": "[encoded data removed]",
      "text/plain": [
       "<Figure size 432x288 with 1 Axes>"
      ]
     },
     "metadata": {
      "needs_background": "light"
     },
     "output_type": "display_data"
    }
   ],
   "source": [
    "# population densities by census tract in King County\n",
    "sns.distplot(WA_tracts['pop_den']);"
   ]
  },
  {
   "cell_type": "code",
   "execution_count": 18,
   "metadata": {},
   "outputs": [
    {
     "data": {
      "text/html": [
       "<div>\n",
       "<style scoped>\n",
       "    .dataframe tbody tr th:only-of-type {\n",
       "        vertical-align: middle;\n",
       "    }\n",
       "\n",
       "    .dataframe tbody tr th {\n",
       "        vertical-align: top;\n",
       "    }\n",
       "\n",
       "    .dataframe thead th {\n",
       "        text-align: right;\n",
       "    }\n",
       "</style>\n",
       "<table border=\"1\" class=\"dataframe\">\n",
       "  <thead>\n",
       "    <tr style=\"text-align: right;\">\n",
       "      <th></th>\n",
       "      <th>bus_station_count</th>\n",
       "      <th>lat</th>\n",
       "      <th>lon</th>\n",
       "      <th>park_count</th>\n",
       "      <th>restaurant_count</th>\n",
       "      <th>school_count</th>\n",
       "      <th>supermarket_count</th>\n",
       "      <th>walk_score</th>\n",
       "      <th>pub_count</th>\n",
       "      <th>parkwide_count</th>\n",
       "      <th>...</th>\n",
       "      <th>restaurantwide_count</th>\n",
       "      <th>geometry</th>\n",
       "      <th>place_name</th>\n",
       "      <th>road_type</th>\n",
       "      <th>closest_highway</th>\n",
       "      <th>closest_primary</th>\n",
       "      <th>closest_secondary</th>\n",
       "      <th>corner_dist</th>\n",
       "      <th>signal_dist</th>\n",
       "      <th>zone</th>\n",
       "    </tr>\n",
       "  </thead>\n",
       "  <tbody>\n",
       "    <tr>\n",
       "      <th>0</th>\n",
       "      <td>5</td>\n",
       "      <td>47.558532</td>\n",
       "      <td>-122.399363</td>\n",
       "      <td>5</td>\n",
       "      <td>22</td>\n",
       "      <td>2</td>\n",
       "      <td>0</td>\n",
       "      <td>41</td>\n",
       "      <td>2</td>\n",
       "      <td>34</td>\n",
       "      <td>...</td>\n",
       "      <td>29</td>\n",
       "      <td>POINT (-122.3993628380088 47.55853164856877)</td>\n",
       "      <td>Seattle, King County, Washington, USA</td>\n",
       "      <td>tertiary</td>\n",
       "      <td>1885.270556</td>\n",
       "      <td>1346.558863</td>\n",
       "      <td>172.243515</td>\n",
       "      <td>79.404561</td>\n",
       "      <td>946.785128</td>\n",
       "      <td>residential</td>\n",
       "    </tr>\n",
       "    <tr>\n",
       "      <th>1</th>\n",
       "      <td>4</td>\n",
       "      <td>47.584185</td>\n",
       "      <td>-122.403673</td>\n",
       "      <td>3</td>\n",
       "      <td>14</td>\n",
       "      <td>1</td>\n",
       "      <td>0</td>\n",
       "      <td>35</td>\n",
       "      <td>1</td>\n",
       "      <td>21</td>\n",
       "      <td>...</td>\n",
       "      <td>25</td>\n",
       "      <td>POINT (-122.4036728313316 47.58418500735632)</td>\n",
       "      <td>Seattle, King County, Washington, USA</td>\n",
       "      <td>secondary</td>\n",
       "      <td>2789.962129</td>\n",
       "      <td>1330.359218</td>\n",
       "      <td>202.648269</td>\n",
       "      <td>207.181855</td>\n",
       "      <td>1330.359218</td>\n",
       "      <td>residential</td>\n",
       "    </tr>\n",
       "    <tr>\n",
       "      <th>2</th>\n",
       "      <td>4</td>\n",
       "      <td>47.579075</td>\n",
       "      <td>-122.412441</td>\n",
       "      <td>4</td>\n",
       "      <td>14</td>\n",
       "      <td>1</td>\n",
       "      <td>0</td>\n",
       "      <td>65</td>\n",
       "      <td>1</td>\n",
       "      <td>20</td>\n",
       "      <td>...</td>\n",
       "      <td>15</td>\n",
       "      <td>POINT (-122.4124409242209 47.57907530454256)</td>\n",
       "      <td>Seattle, King County, Washington, USA</td>\n",
       "      <td>secondary</td>\n",
       "      <td>3137.711062</td>\n",
       "      <td>1962.229345</td>\n",
       "      <td>49.455709</td>\n",
       "      <td>51.739862</td>\n",
       "      <td>1940.736890</td>\n",
       "      <td>commercial</td>\n",
       "    </tr>\n",
       "  </tbody>\n",
       "</table>\n",
       "<p>3 rows × 21 columns</p>\n",
       "</div>"
      ],
      "text/plain": [
       "   bus_station_count        lat         lon  park_count  restaurant_count  \\\n",
       "0                  5  47.558532 -122.399363           5                22   \n",
       "1                  4  47.584185 -122.403673           3                14   \n",
       "2                  4  47.579075 -122.412441           4                14   \n",
       "\n",
       "   school_count  supermarket_count  walk_score  pub_count  parkwide_count  \\\n",
       "0             2                  0          41          2              34   \n",
       "1             1                  0          35          1              21   \n",
       "2             1                  0          65          1              20   \n",
       "\n",
       "   ...  restaurantwide_count                                      geometry  \\\n",
       "0  ...                    29  POINT (-122.3993628380088 47.55853164856877)   \n",
       "1  ...                    25  POINT (-122.4036728313316 47.58418500735632)   \n",
       "2  ...                    15  POINT (-122.4124409242209 47.57907530454256)   \n",
       "\n",
       "                              place_name  road_type closest_highway  \\\n",
       "0  Seattle, King County, Washington, USA   tertiary     1885.270556   \n",
       "1  Seattle, King County, Washington, USA  secondary     2789.962129   \n",
       "2  Seattle, King County, Washington, USA  secondary     3137.711062   \n",
       "\n",
       "   closest_primary  closest_secondary  corner_dist  signal_dist         zone  \n",
       "0      1346.558863         172.243515    79.404561   946.785128  residential  \n",
       "1      1330.359218         202.648269   207.181855  1330.359218  residential  \n",
       "2      1962.229345          49.455709    51.739862  1940.736890   commercial  \n",
       "\n",
       "[3 rows x 21 columns]"
      ]
     },
     "execution_count": 18,
     "metadata": {},
     "output_type": "execute_result"
    }
   ],
   "source": [
    "# left merge with the zoning data\n",
    "walk_all = gpd.sjoin(EDF_points, sea_zones, how='left', op='intersects')\n",
    "\n",
    "\n",
    "# drop all observations that don't have a zone (thus aren't truly a part of Seattle or are perhaps in the water)\n",
    "walk_all = walk_all.dropna()\n",
    "\n",
    "# reset index from dropped null observations\n",
    "walk_all = walk_all.reset_index(drop=True)\n",
    "\n",
    "# remove unneeded columsn\n",
    "walk_all = walk_all.drop(['index_right', 'CLASS_DESC', 'ZONEID'], axis = 1)\n",
    "\n",
    "\n",
    "walk_all.head(3)"
   ]
  },
  {
   "cell_type": "code",
   "execution_count": 19,
   "metadata": {},
   "outputs": [
    {
     "data": {
      "text/html": [
       "<div>\n",
       "<style scoped>\n",
       "    .dataframe tbody tr th:only-of-type {\n",
       "        vertical-align: middle;\n",
       "    }\n",
       "\n",
       "    .dataframe tbody tr th {\n",
       "        vertical-align: top;\n",
       "    }\n",
       "\n",
       "    .dataframe thead th {\n",
       "        text-align: right;\n",
       "    }\n",
       "</style>\n",
       "<table border=\"1\" class=\"dataframe\">\n",
       "  <thead>\n",
       "    <tr style=\"text-align: right;\">\n",
       "      <th></th>\n",
       "      <th>bus_station_count</th>\n",
       "      <th>lat</th>\n",
       "      <th>lon</th>\n",
       "      <th>park_count</th>\n",
       "      <th>restaurant_count</th>\n",
       "      <th>school_count</th>\n",
       "      <th>supermarket_count</th>\n",
       "      <th>walk_score</th>\n",
       "      <th>pub_count</th>\n",
       "      <th>parkwide_count</th>\n",
       "      <th>...</th>\n",
       "      <th>closest_highway</th>\n",
       "      <th>closest_primary</th>\n",
       "      <th>closest_secondary</th>\n",
       "      <th>corner_dist</th>\n",
       "      <th>signal_dist</th>\n",
       "      <th>zone</th>\n",
       "      <th>population</th>\n",
       "      <th>Area in Land Miles</th>\n",
       "      <th>tract</th>\n",
       "      <th>pop_den</th>\n",
       "    </tr>\n",
       "  </thead>\n",
       "  <tbody>\n",
       "    <tr>\n",
       "      <th>0</th>\n",
       "      <td>5</td>\n",
       "      <td>47.558532</td>\n",
       "      <td>-122.399363</td>\n",
       "      <td>5</td>\n",
       "      <td>22</td>\n",
       "      <td>2</td>\n",
       "      <td>0</td>\n",
       "      <td>41</td>\n",
       "      <td>2</td>\n",
       "      <td>34</td>\n",
       "      <td>...</td>\n",
       "      <td>1885.270556</td>\n",
       "      <td>1346.558863</td>\n",
       "      <td>172.243515</td>\n",
       "      <td>79.404561</td>\n",
       "      <td>946.785128</td>\n",
       "      <td>residential</td>\n",
       "      <td>5290</td>\n",
       "      <td>0.717</td>\n",
       "      <td>97.01</td>\n",
       "      <td>7377.963738</td>\n",
       "    </tr>\n",
       "  </tbody>\n",
       "</table>\n",
       "<p>1 rows × 25 columns</p>\n",
       "</div>"
      ],
      "text/plain": [
       "   bus_station_count        lat         lon  park_count  restaurant_count  \\\n",
       "0                  5  47.558532 -122.399363           5                22   \n",
       "\n",
       "   school_count  supermarket_count  walk_score  pub_count  parkwide_count  \\\n",
       "0             2                  0          41          2              34   \n",
       "\n",
       "   ...  closest_highway  closest_primary closest_secondary corner_dist  \\\n",
       "0  ...      1885.270556      1346.558863        172.243515   79.404561   \n",
       "\n",
       "  signal_dist         zone  population  Area in Land Miles  tract      pop_den  \n",
       "0  946.785128  residential        5290               0.717  97.01  7377.963738  \n",
       "\n",
       "[1 rows x 25 columns]"
      ]
     },
     "execution_count": 19,
     "metadata": {},
     "output_type": "execute_result"
    }
   ],
   "source": [
    "#merge with the census data on GEOID\n",
    "walk_all = pd.merge(walk_all, WA_tracts, on='GEOID')\n",
    "walk_all.head(1)"
   ]
  },
  {
   "cell_type": "code",
   "execution_count": 20,
   "metadata": {},
   "outputs": [],
   "source": [
    "## Calculate distance to industrial zone\n",
    "#re-projections\n",
    "walk_utm = walk_all.to_crs({'init': 'epsg:32610'}).copy()\n",
    "zones_utm = sea_zones.to_crs({'init': 'epsg:32610'}).copy()\n",
    "industry = zones_utm[zones_utm.zone == 'industrial']\n",
    "commercial = zones_utm[zones_utm.zone == 'commercial']\n",
    "residential = zones_utm[zones_utm.zone == 'residential']\n",
    "\n",
    "#calculations\n",
    "walk_all['industry_dist'] = walk_utm['geometry'].apply(distance_to_zoning, zone = industry)\n",
    "walk_all['commercial_dist'] = walk_utm['geometry'].apply(distance_to_zoning, zone = commercial)\n",
    "walk_all['residential_dist'] = walk_utm['geometry'].apply(distance_to_zoning, zone = residential)"
   ]
  },
  {
   "cell_type": "code",
   "execution_count": 21,
   "metadata": {},
   "outputs": [
    {
     "data": {
      "text/plain": [
       "<matplotlib.axes._subplots.AxesSubplot at 0x1a33526588>"
      ]
     },
     "execution_count": 21,
     "metadata": {},
     "output_type": "execute_result"
    },
    {
     "data": {
      "image/png": "[encoded data removed]",
      "text/plain": [
       "<Figure size 432x288 with 1 Axes>"
      ]
     },
     "metadata": {
      "needs_background": "light"
     },
     "output_type": "display_data"
    }
   ],
   "source": [
    "sns.countplot(walk_all['zone'])"
   ]
  },
  {
   "cell_type": "markdown",
   "metadata": {},
   "source": [
    "# Amenity Features"
   ]
  },
  {
   "cell_type": "markdown",
   "metadata": {},
   "source": [
    "1) Count of Schools within 1000 meter radius\n",
    "\n",
    "2) Count of Parks within 1000 meter radius\n",
    "\n",
    "3) Count of Restaurants within 1000 meter radius\n",
    "\n",
    "4) Count of Supermarkets within 1000 meter radius\n",
    "\n",
    "5) Count of Pubs within 1000 meter radius\n",
    "\n",
    "6) Count of Bus Stations within 10000 meter radius\n",
    "\n",
    "7) Count of Parks within 2500 meter radius\n",
    "\n",
    "8) Count of Restaurants within 1500 meter radius"
   ]
  },
  {
   "cell_type": "code",
   "execution_count": 22,
   "metadata": {},
   "outputs": [],
   "source": [
    "private_token = APIKEY\n",
    "\n",
    "def location_api(df, amenity, radius, apikey):\n",
    "    amenity_count = [] \n",
    "    for i in range(len(df)):\n",
    "        count = 0    \n",
    "        url = 'https://us1.locationiq.com/v1/nearby.php?key='+apikey+'&lat='+str(df['lat'][i])+'&lon='+str(df['lon'][i])+'&tag='+amenity+'&radius='+radius+'&format=json'\n",
    "        r = requests.get(url)\n",
    "        data = r.json()\n",
    "        if 'error' in data:\n",
    "            amenity_count.append(0)\n",
    "            print(data)\n",
    "            time.sleep(0.75)\n",
    "        else:   \n",
    "            count = len(data)\n",
    "            print(count)\n",
    "            print(i)\n",
    "            amenity_count.append(count)\n",
    "            time.sleep(0.75)\n",
    "\n",
    "    df[amenity+'wide_count'] = amenity_count\n",
    "    \n",
    "    return df"
   ]
  },
  {
   "cell_type": "code",
   "execution_count": 23,
   "metadata": {},
   "outputs": [
    {
     "data": {
      "text/plain": [
       "\"#locationiq amenity specs\\namenity_specs = [['restaurant', '1000'], ['school', '1000'], ['park', '1000'], \\n             ['bus_station', '10000'], ['supermarket', '1000'], ['pub', '1000'],\\n                ['parkwide', '2500'], ['restaurantwide', '1500']]\\n\\nwalk_all = location_api(walk_all, 'restaurant', '1000', private_token);\\nwalk_all = location_api(walk_all, 'school', '1000', private_token);\\nwalk_all = location_api(walk_all, 'park', '1000', private_token);\\nwalk_all = location_api(walk_all, 'bus_station', '10000', private_token);\\nwalk_all = location_api(walk_all, 'supermarket', '1000', private_token);\\nwalk_all = location_api(walk_all, 'pub', '1000', private_token);\\nwalk_all = location_api(walk_all, 'parkwide', '2500', private_token);\\nwalk_all = location_api(walk_all, 'restaurantwide', '1500', private_token);\""
      ]
     },
     "execution_count": 23,
     "metadata": {},
     "output_type": "execute_result"
    }
   ],
   "source": [
    "#locationiq amenity specs\n",
    "amenity_specs = [['restaurant', '1000'], ['school', '1000'], ['park', '1000'], \n",
    "             ['bus_station', '10000'], ['supermarket', '1000'], ['pub', '1000'],\n",
    "                ['parkwide', '2500'], ['restaurantwide', '1500']]\n",
    "\n",
    "walk_all = location_api(walk_all, 'restaurant', '1000', private_token);\n",
    "walk_all = location_api(walk_all, 'school', '1000', private_token);\n",
    "walk_all = location_api(walk_all, 'park', '1000', private_token);\n",
    "walk_all = location_api(walk_all, 'bus_station', '10000', private_token);\n",
    "walk_all = location_api(walk_all, 'supermarket', '1000', private_token);\n",
    "walk_all = location_api(walk_all, 'pub', '1000', private_token);\n",
    "walk_all = location_api(walk_all, 'parkwide', '2500', private_token);\n",
    "walk_all = location_api(walk_all, 'restaurantwide', '1500', private_token);"
   ]
  },
  {
   "cell_type": "code",
   "execution_count": 24,
   "metadata": {},
   "outputs": [
    {
     "name": "stdout",
     "output_type": "stream",
     "text": [
      "<class 'geopandas.geodataframe.GeoDataFrame'>\n",
      "Int64Index: 1741 entries, 0 to 1740\n",
      "Data columns (total 28 columns):\n",
      "bus_station_count       1741 non-null int64\n",
      "lat                     1741 non-null float64\n",
      "lon                     1741 non-null float64\n",
      "park_count              1741 non-null int64\n",
      "restaurant_count        1741 non-null int64\n",
      "school_count            1741 non-null int64\n",
      "supermarket_count       1741 non-null int64\n",
      "walk_score              1741 non-null int64\n",
      "pub_count               1741 non-null int64\n",
      "parkwide_count          1741 non-null int64\n",
      "GEOID                   1741 non-null int64\n",
      "restaurantwide_count    1741 non-null int64\n",
      "geometry                1741 non-null object\n",
      "place_name              1741 non-null object\n",
      "road_type               1741 non-null object\n",
      "closest_highway         1741 non-null float64\n",
      "closest_primary         1741 non-null float64\n",
      "closest_secondary       1741 non-null float64\n",
      "corner_dist             1741 non-null float64\n",
      "signal_dist             1741 non-null float64\n",
      "zone                    1741 non-null object\n",
      "population              1741 non-null int64\n",
      "Area in Land Miles      1741 non-null float64\n",
      "tract                   1741 non-null float64\n",
      "pop_den                 1741 non-null float64\n",
      "industry_dist           1741 non-null float64\n",
      "commercial_dist         1741 non-null float64\n",
      "residential_dist        1741 non-null float64\n",
      "dtypes: float64(13), int64(11), object(4)\n",
      "memory usage: 474.4+ KB\n"
     ]
    }
   ],
   "source": [
    "walk_all.info()"
   ]
  },
  {
   "cell_type": "code",
   "execution_count": 25,
   "metadata": {},
   "outputs": [],
   "source": [
    "# find the additional amenities outside of the inital search radius\n",
    "walk_all['restaurantdiff_count'] = walk_all['restaurantwide_count'] - walk_all['restaurant_count']\n",
    "walk_all['parkdiff_count'] = walk_all['parkwide_count'] - walk_all['park_count']"
   ]
  },
  {
   "cell_type": "markdown",
   "metadata": {},
   "source": [
    "## Model Development"
   ]
  },
  {
   "cell_type": "code",
   "execution_count": 26,
   "metadata": {},
   "outputs": [],
   "source": [
    "from sklearn.ensemble import RandomForestRegressor, GradientBoostingRegressor\n",
    "from xgboost import XGBRegressor\n",
    "from sklearn.model_selection import train_test_split, RandomizedSearchCV, GridSearchCV, cross_val_score\n",
    "from sklearn.metrics import r2_score, mean_squared_error"
   ]
  },
  {
   "cell_type": "code",
   "execution_count": 27,
   "metadata": {},
   "outputs": [],
   "source": [
    "def abline(slope, intercept):\n",
    "    \"\"\"Plot a line from slope and intercept\"\"\"\n",
    "    axes = plt.gca()\n",
    "    x_vals = np.array(axes.get_xlim())\n",
    "    y_vals = intercept + slope * x_vals\n",
    "    plt.plot(x_vals, y_vals, '-', color='black')\n",
    "\n",
    "def pred_summary(pred, ytest, limit = 100):\n",
    "    \"\"\"Plotting for test set predictions\"\"\"\n",
    "    sns.scatterplot(pred, ytest)\n",
    "    abline(1, 0) #1-1 line\n",
    "    plt.ylim(0, limit); plt.xlim(0, limit)\n",
    "    plt.tick_params(labelsize=18)\n",
    "    \n",
    "    print('RMSE', np.sqrt(mean_squared_error(ytest, pred)))\n",
    "    print('R2', r2_score(ytest, pred))"
   ]
  },
  {
   "cell_type": "code",
   "execution_count": 28,
   "metadata": {},
   "outputs": [
    {
     "name": "stdout",
     "output_type": "stream",
     "text": [
      "Train size: 1166\n",
      "Test size: 575\n"
     ]
    }
   ],
   "source": [
    "walk_model = walk_all.dropna() # remove the few NA values if there are any\n",
    "\n",
    "# Grab relevant features\n",
    "X_vars = ['closest_highway', 'closest_primary', 'closest_secondary', 'corner_dist', 'signal_dist', 'zone', 'road_type',\n",
    "          'industry_dist', 'commercial_dist', 'residential_dist', 'school_count', 'park_count', 'restaurant_count',\n",
    "         'bus_station_count', 'supermarket_count', 'pub_count', 'parkdiff_count', 'Area in Land Miles', 'population',\n",
    "         'pop_den', 'restaurantdiff_count']\n",
    "\n",
    "X = walk_model[X_vars]\n",
    "X = pd.get_dummies(X, columns=['zone', 'road_type']) #create dummy variables for categorical features\n",
    "\n",
    "\n",
    "#X = X.drop(['road_type_motorway', 'road_type_primary', 'road_type_secondary'], axis = 1)\n",
    "\n",
    "y = walk_model['walk_score']\n",
    "\n",
    "#train test split\n",
    "Xtrain, Xtest, ytrain, ytest = train_test_split(X, y, test_size=0.33, random_state=0)\n",
    "print('Train size:', len(ytrain))\n",
    "print('Test size:', len(ytest))"
   ]
  },
  {
   "cell_type": "code",
   "execution_count": 29,
   "metadata": {},
   "outputs": [
    {
     "name": "stderr",
     "output_type": "stream",
     "text": [
      "/Users/perryjohnson/anaconda3/lib/python3.7/site-packages/sklearn/externals/joblib/externals/loky/process_executor.py:706: UserWarning: A worker stopped while some jobs were given to the executor. This can be caused by a too short worker timeout or by a memory leak.\n",
      "  \"timeout or by a memory leak.\", UserWarning\n",
      "/Users/perryjohnson/anaconda3/lib/python3.7/site-packages/sklearn/externals/joblib/externals/loky/process_executor.py:706: UserWarning: A worker stopped while some jobs were given to the executor. This can be caused by a too short worker timeout or by a memory leak.\n",
      "  \"timeout or by a memory leak.\", UserWarning\n",
      "/Users/perryjohnson/anaconda3/lib/python3.7/site-packages/sklearn/model_selection/_search.py:841: DeprecationWarning: The default of the `iid` parameter will change from True to False in version 0.22 and will be removed in 0.24. This will change numeric results when test-set sizes are unequal.\n",
      "  DeprecationWarning)\n"
     ]
    },
    {
     "data": {
      "text/plain": [
       "GridSearchCV(cv=5, error_score='raise-deprecating',\n",
       "       estimator=RandomForestRegressor(bootstrap=True, criterion='mse', max_depth=None,\n",
       "           max_features='auto', max_leaf_nodes=None,\n",
       "           min_impurity_decrease=0.0, min_impurity_split=None,\n",
       "           min_samples_leaf=1, min_samples_split=2,\n",
       "           min_weight_fraction_leaf=0.0, n_estimators='warn', n_jobs=2,\n",
       "           oob_score=False, random_state=None, verbose=0, warm_start=False),\n",
       "       fit_params=None, iid='warn', n_jobs=None,\n",
       "       param_grid={'max_features': [6, 8, 10, 12], 'n_estimators': [300, 400, 500, 600, 700]},\n",
       "       pre_dispatch='2*n_jobs', refit=True, return_train_score='warn',\n",
       "       scoring='neg_mean_squared_error', verbose=0)"
      ]
     },
     "execution_count": 29,
     "metadata": {},
     "output_type": "execute_result"
    }
   ],
   "source": [
    "forest = RandomForestRegressor(n_jobs=2)\n",
    "\n",
    "params = {'max_features': [6, 8, 10, 12],\n",
    "          'n_estimators': [300, 400, 500, 600, 700]}\n",
    "\n",
    "forest_grid = GridSearchCV(forest, params, cv=5, scoring = 'neg_mean_squared_error')\n",
    "forest_grid.fit(Xtrain, ytrain)"
   ]
  },
  {
   "cell_type": "code",
   "execution_count": 30,
   "metadata": {},
   "outputs": [
    {
     "name": "stdout",
     "output_type": "stream",
     "text": [
      "Best score (RMSE) 7.725306446776875\n",
      "RandomForestRegressor(bootstrap=True, criterion='mse', max_depth=None,\n",
      "           max_features=6, max_leaf_nodes=None, min_impurity_decrease=0.0,\n",
      "           min_impurity_split=None, min_samples_leaf=1,\n",
      "           min_samples_split=2, min_weight_fraction_leaf=0.0,\n",
      "           n_estimators=400, n_jobs=2, oob_score=False, random_state=None,\n",
      "           verbose=0, warm_start=False)\n"
     ]
    },
    {
     "data": {
      "text/plain": [
       "Index(['closest_highway', 'closest_primary', 'closest_secondary',\n",
       "       'corner_dist', 'signal_dist', 'industry_dist', 'commercial_dist',\n",
       "       'residential_dist', 'school_count', 'park_count', 'restaurant_count',\n",
       "       'bus_station_count', 'supermarket_count', 'pub_count', 'parkdiff_count',\n",
       "       'Area in Land Miles', 'population', 'pop_den', 'restaurantdiff_count',\n",
       "       'zone_commercial', 'zone_industrial', 'zone_residential',\n",
       "       'road_type_motorway', 'road_type_outside_area', 'road_type_planned',\n",
       "       'road_type_primary', 'road_type_residential', 'road_type_secondary',\n",
       "       'road_type_tertiary', 'road_type_unclassified'],\n",
       "      dtype='object')"
      ]
     },
     "execution_count": 30,
     "metadata": {},
     "output_type": "execute_result"
    }
   ],
   "source": [
    "#Best estimator and CV score\n",
    "print('Best score (RMSE)', np.sqrt(np.abs(forest_grid.best_score_)))\n",
    "print(forest_grid.best_estimator_)\n",
    "Xtrain.columns"
   ]
  },
  {
   "cell_type": "code",
   "execution_count": 31,
   "metadata": {},
   "outputs": [
    {
     "name": "stdout",
     "output_type": "stream",
     "text": [
      "RMSE 2.7920569915956555\n",
      "R2 0.9876909570137937\n"
     ]
    },
    {
     "data": {
      "image/png": "[encoded data removed]",
      "text/plain": [
       "<Figure size 432x288 with 1 Axes>"
      ]
     },
     "metadata": {
      "needs_background": "light"
     },
     "output_type": "display_data"
    }
   ],
   "source": [
    "forest_out = forest_grid.predict(Xtrain)\n",
    "pred_summary(forest_out, ytrain, limit=100)\n",
    "plt.xlabel('Predicted Walk Score', fontsize = 20); plt.ylabel('Actual Walk Score', fontsize=20);"
   ]
  },
  {
   "cell_type": "code",
   "execution_count": 32,
   "metadata": {},
   "outputs": [
    {
     "data": {
      "image/png": "[encoded data removed]",
      "text/plain": [
       "<Figure size 360x504 with 1 Axes>"
      ]
     },
     "metadata": {
      "needs_background": "light"
     },
     "output_type": "display_data"
    }
   ],
   "source": [
    "features = X.columns\n",
    "importance = forest_grid.best_estimator_.feature_importances_\n",
    "indices = np.argsort(importance)\n",
    "plt.figure(figsize=(5, 7))\n",
    "plt.title(\"Feature importances\", fontsize = 18)\n",
    "plt.barh(features[indices], importance[indices],\n",
    "       color=\"r\",  align=\"center\")\n",
    "plt.tick_params(labelsize=14);"
   ]
  },
  {
   "cell_type": "code",
   "execution_count": 33,
   "metadata": {},
   "outputs": [
    {
     "name": "stderr",
     "output_type": "stream",
     "text": [
      "/Users/perryjohnson/anaconda3/lib/python3.7/site-packages/sklearn/model_selection/_search.py:841: DeprecationWarning: The default of the `iid` parameter will change from True to False in version 0.22 and will be removed in 0.24. This will change numeric results when test-set sizes are unequal.\n",
      "  DeprecationWarning)\n"
     ]
    },
    {
     "data": {
      "text/plain": [
       "RandomizedSearchCV(cv=5, error_score='raise-deprecating',\n",
       "          estimator=GradientBoostingRegressor(alpha=0.9, criterion='friedman_mse', init=None,\n",
       "             learning_rate=0.1, loss='ls', max_depth=3, max_features=None,\n",
       "             max_leaf_nodes=None, min_impurity_decrease=0.0,\n",
       "             min_impurity_split=None, min_samples_leaf=1,\n",
       "             min_sampl...=None, subsample=1.0, tol=0.0001,\n",
       "             validation_fraction=0.1, verbose=0, warm_start=False),\n",
       "          fit_params=None, iid='warn', n_iter=10, n_jobs=None,\n",
       "          param_distributions={'max_features': [6, 8, 10, 12], 'n_estimators': [400, 500, 600, 700]},\n",
       "          pre_dispatch='2*n_jobs', random_state=None, refit=True,\n",
       "          return_train_score='warn', scoring='neg_mean_squared_error',\n",
       "          verbose=0)"
      ]
     },
     "execution_count": 33,
     "metadata": {},
     "output_type": "execute_result"
    }
   ],
   "source": [
    "gbr = GradientBoostingRegressor()\n",
    "\n",
    "params = {'max_features': [6, 8, 10, 12],\n",
    "          'n_estimators': [400, 500, 600, 700]}\n",
    "\n",
    "gbr_grid = RandomizedSearchCV(gbr, params, cv=5, scoring = 'neg_mean_squared_error')\n",
    "\n",
    "gbr_grid.fit(Xtrain, ytrain)"
   ]
  },
  {
   "cell_type": "code",
   "execution_count": 34,
   "metadata": {},
   "outputs": [
    {
     "name": "stdout",
     "output_type": "stream",
     "text": [
      "Best score (RMSE) 7.560829541057786\n",
      "GradientBoostingRegressor(alpha=0.9, criterion='friedman_mse', init=None,\n",
      "             learning_rate=0.1, loss='ls', max_depth=3, max_features=6,\n",
      "             max_leaf_nodes=None, min_impurity_decrease=0.0,\n",
      "             min_impurity_split=None, min_samples_leaf=1,\n",
      "             min_samples_split=2, min_weight_fraction_leaf=0.0,\n",
      "             n_estimators=500, n_iter_no_change=None, presort='auto',\n",
      "             random_state=None, subsample=1.0, tol=0.0001,\n",
      "             validation_fraction=0.1, verbose=0, warm_start=False)\n"
     ]
    }
   ],
   "source": [
    "#Best estimator and CV score\n",
    "print('Best score (RMSE)', np.sqrt(np.abs(gbr_grid.best_score_)))\n",
    "print(gbr_grid.best_estimator_)"
   ]
  },
  {
   "cell_type": "code",
   "execution_count": 35,
   "metadata": {},
   "outputs": [
    {
     "name": "stdout",
     "output_type": "stream",
     "text": [
      "RMSE 8.987800014280525\n",
      "R2 0.8651681639883233\n"
     ]
    },
    {
     "data": {
      "image/png": "[encoded data removed]",
      "text/plain": [
       "<Figure size 648x432 with 1 Axes>"
      ]
     },
     "metadata": {
      "needs_background": "light"
     },
     "output_type": "display_data"
    }
   ],
   "source": [
    "fig = plt.figure(figsize=(9,6))\n",
    "xgb_out = gbr_grid.predict(Xtest)\n",
    "pred_summary(xgb_out, ytest, limit=100)\n",
    "plt.xlabel('Predicted Walk Score', fontsize = 22); plt.ylabel('Actual Walk Score', fontsize=22);"
   ]
  }
 ],
 "metadata": {
  "kernelspec": {
   "display_name": "Python 3",
   "language": "python",
   "name": "python3"
  },
  "language_info": {
   "codemirror_mode": {
    "name": "ipython",
    "version": 3
   },
   "file_extension": ".py",
   "mimetype": "text/x-python",
   "name": "python",
   "nbconvert_exporter": "python",
   "pygments_lexer": "ipython3",
   "version": "3.7.0"
  }
 },
 "nbformat": 4,
 "nbformat_minor": 2
}
