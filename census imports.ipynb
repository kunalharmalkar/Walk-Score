{
 "cells": [
  {
   "cell_type": "code",
   "execution_count": 1,
   "metadata": {},
   "outputs": [],
   "source": [
    "# import libraries\n",
    "import geopandas as gpd\n",
    "import pandas as pd\n",
    "import numpy as np\n",
    "import cenpy as cen\n",
    "import seaborn as sns\n",
    "import matplotlib.pyplot as plt\n",
    "from shapely import wkt"
   ]
  },
  {
   "cell_type": "code",
   "execution_count": 2,
   "metadata": {},
   "outputs": [
    {
     "data": {
      "text/html": [
       "<div>\n",
       "<style scoped>\n",
       "    .dataframe tbody tr th:only-of-type {\n",
       "        vertical-align: middle;\n",
       "    }\n",
       "\n",
       "    .dataframe tbody tr th {\n",
       "        vertical-align: top;\n",
       "    }\n",
       "\n",
       "    .dataframe thead th {\n",
       "        text-align: right;\n",
       "    }\n",
       "</style>\n",
       "<table border=\"1\" class=\"dataframe\">\n",
       "  <thead>\n",
       "    <tr style=\"text-align: right;\">\n",
       "      <th></th>\n",
       "      <th>OBJECTID</th>\n",
       "      <th>STATEFP10</th>\n",
       "      <th>COUNTYFP10</th>\n",
       "      <th>TRACTCE10</th>\n",
       "      <th>GEOID10</th>\n",
       "      <th>NAME10</th>\n",
       "      <th>NAMELSAD10</th>\n",
       "      <th>MTFCC10</th>\n",
       "      <th>FUNCSTAT10</th>\n",
       "      <th>ALAND10</th>\n",
       "      <th>AWATER10</th>\n",
       "      <th>INTPTLAT10</th>\n",
       "      <th>INTPTLON10</th>\n",
       "      <th>Shape_Leng</th>\n",
       "      <th>Shape_Area</th>\n",
       "      <th>geometry</th>\n",
       "    </tr>\n",
       "  </thead>\n",
       "  <tbody>\n",
       "    <tr>\n",
       "      <th>0</th>\n",
       "      <td>1</td>\n",
       "      <td>53</td>\n",
       "      <td>033</td>\n",
       "      <td>022006</td>\n",
       "      <td>53033022006</td>\n",
       "      <td>220.06</td>\n",
       "      <td>Census Tract 220.06</td>\n",
       "      <td>G5020</td>\n",
       "      <td>S</td>\n",
       "      <td>1408907.0</td>\n",
       "      <td>0.0</td>\n",
       "      <td>+47.7043393</td>\n",
       "      <td>-122.1992667</td>\n",
       "      <td>21339.05658</td>\n",
       "      <td>1.516433e+07</td>\n",
       "      <td>POLYGON ((1301362.03695561 260531.9154131114, ...</td>\n",
       "    </tr>\n",
       "  </tbody>\n",
       "</table>\n",
       "</div>"
      ],
      "text/plain": [
       "   OBJECTID STATEFP10 COUNTYFP10 TRACTCE10      GEOID10  NAME10  \\\n",
       "0         1        53        033    022006  53033022006  220.06   \n",
       "\n",
       "            NAMELSAD10 MTFCC10 FUNCSTAT10    ALAND10  AWATER10   INTPTLAT10  \\\n",
       "0  Census Tract 220.06   G5020          S  1408907.0       0.0  +47.7043393   \n",
       "\n",
       "     INTPTLON10   Shape_Leng    Shape_Area  \\\n",
       "0  -122.1992667  21339.05658  1.516433e+07   \n",
       "\n",
       "                                            geometry  \n",
       "0  POLYGON ((1301362.03695561 260531.9154131114, ...  "
      ]
     },
     "execution_count": 2,
     "metadata": {},
     "output_type": "execute_result"
    }
   ],
   "source": [
    "#import all Seattle census tracts\n",
    "tracts = gpd.read_file(\"/Users/perryjohnson/Desktop/Walkability/Data/KingCountyTractsShapefiles/kc_tract_10.shp\")\n",
    "tracts.head(1)"
   ]
  },
  {
   "cell_type": "code",
   "execution_count": 3,
   "metadata": {},
   "outputs": [],
   "source": [
    "#import all Seattle census population tracts\n",
    "census = gpd.read_file(\"/Users/perryjohnson/Desktop/Walkability/Data/tract10/tract10.shp\")"
   ]
  },
  {
   "cell_type": "code",
   "execution_count": 4,
   "metadata": {},
   "outputs": [
    {
     "name": "stdout",
     "output_type": "stream",
     "text": [
      "{'init': 'epsg:2926'}\n",
      "{'init': 'epsg:2927'}\n"
     ]
    }
   ],
   "source": [
    "# check coordinate reference systems (crs)\n",
    "print(tracts.crs)\n",
    "print(census.crs)"
   ]
  },
  {
   "cell_type": "code",
   "execution_count": 5,
   "metadata": {
    "scrolled": true
   },
   "outputs": [],
   "source": [
    "# set them to same crs\n",
    "tracts = tracts.to_crs('epsg:2927');"
   ]
  },
  {
   "cell_type": "code",
   "execution_count": 6,
   "metadata": {},
   "outputs": [],
   "source": [
    "columns = ['GEOID10', 'POP10', 'ALANDMI']\n",
    "cleaned_census = census[columns]"
   ]
  },
  {
   "cell_type": "code",
   "execution_count": 7,
   "metadata": {},
   "outputs": [
    {
     "data": {
      "text/html": [
       "<div>\n",
       "<style scoped>\n",
       "    .dataframe tbody tr th:only-of-type {\n",
       "        vertical-align: middle;\n",
       "    }\n",
       "\n",
       "    .dataframe tbody tr th {\n",
       "        vertical-align: top;\n",
       "    }\n",
       "\n",
       "    .dataframe thead th {\n",
       "        text-align: right;\n",
       "    }\n",
       "</style>\n",
       "<table border=\"1\" class=\"dataframe\">\n",
       "  <thead>\n",
       "    <tr style=\"text-align: right;\">\n",
       "      <th></th>\n",
       "      <th>GEOID10</th>\n",
       "      <th>POP10</th>\n",
       "      <th>ALANDMI</th>\n",
       "      <th>OBJECTID</th>\n",
       "      <th>STATEFP10</th>\n",
       "      <th>COUNTYFP10</th>\n",
       "      <th>TRACTCE10</th>\n",
       "      <th>NAME10</th>\n",
       "      <th>NAMELSAD10</th>\n",
       "      <th>MTFCC10</th>\n",
       "      <th>FUNCSTAT10</th>\n",
       "      <th>ALAND10</th>\n",
       "      <th>AWATER10</th>\n",
       "      <th>INTPTLAT10</th>\n",
       "      <th>INTPTLON10</th>\n",
       "      <th>Shape_Leng</th>\n",
       "      <th>Shape_Area</th>\n",
       "      <th>geometry</th>\n",
       "    </tr>\n",
       "  </thead>\n",
       "  <tbody>\n",
       "    <tr>\n",
       "      <th>0</th>\n",
       "      <td>53033000100</td>\n",
       "      <td>6255</td>\n",
       "      <td>0.738</td>\n",
       "      <td>29</td>\n",
       "      <td>53</td>\n",
       "      <td>033</td>\n",
       "      <td>000100</td>\n",
       "      <td>1</td>\n",
       "      <td>Census Tract 1</td>\n",
       "      <td>G5020</td>\n",
       "      <td>S</td>\n",
       "      <td>1910585.0</td>\n",
       "      <td>1486352.0</td>\n",
       "      <td>+47.7238068</td>\n",
       "      <td>-122.2819279</td>\n",
       "      <td>24539.166500</td>\n",
       "      <td>3.656163e+07</td>\n",
       "      <td>POLYGON ((1202194.865825963 875053.9366089341,...</td>\n",
       "    </tr>\n",
       "    <tr>\n",
       "      <th>1</th>\n",
       "      <td>53033000200</td>\n",
       "      <td>7646</td>\n",
       "      <td>1.269</td>\n",
       "      <td>28</td>\n",
       "      <td>53</td>\n",
       "      <td>033</td>\n",
       "      <td>000200</td>\n",
       "      <td>2</td>\n",
       "      <td>Census Tract 2</td>\n",
       "      <td>G5020</td>\n",
       "      <td>S</td>\n",
       "      <td>3286319.0</td>\n",
       "      <td>0.0</td>\n",
       "      <td>+47.7266401</td>\n",
       "      <td>-122.3099961</td>\n",
       "      <td>24111.688266</td>\n",
       "      <td>3.537107e+07</td>\n",
       "      <td>POLYGON ((1195462.767350596 880582.6357230031,...</td>\n",
       "    </tr>\n",
       "  </tbody>\n",
       "</table>\n",
       "</div>"
      ],
      "text/plain": [
       "       GEOID10  POP10  ALANDMI  OBJECTID STATEFP10 COUNTYFP10 TRACTCE10  \\\n",
       "0  53033000100   6255    0.738        29        53        033    000100   \n",
       "1  53033000200   7646    1.269        28        53        033    000200   \n",
       "\n",
       "  NAME10      NAMELSAD10 MTFCC10 FUNCSTAT10    ALAND10   AWATER10  \\\n",
       "0      1  Census Tract 1   G5020          S  1910585.0  1486352.0   \n",
       "1      2  Census Tract 2   G5020          S  3286319.0        0.0   \n",
       "\n",
       "    INTPTLAT10    INTPTLON10    Shape_Leng    Shape_Area  \\\n",
       "0  +47.7238068  -122.2819279  24539.166500  3.656163e+07   \n",
       "1  +47.7266401  -122.3099961  24111.688266  3.537107e+07   \n",
       "\n",
       "                                            geometry  \n",
       "0  POLYGON ((1202194.865825963 875053.9366089341,...  \n",
       "1  POLYGON ((1195462.767350596 880582.6357230031,...  "
      ]
     },
     "execution_count": 7,
     "metadata": {},
     "output_type": "execute_result"
    }
   ],
   "source": [
    "#merge the files\n",
    "demographics = pd.merge(cleaned_census, tracts, on='GEOID10')\n",
    "demographics.head(2)"
   ]
  },
  {
   "cell_type": "code",
   "execution_count": 8,
   "metadata": {},
   "outputs": [],
   "source": [
    "demographics.to_csv('Data/all_demographics.csv')"
   ]
  }
 ],
 "metadata": {
  "kernelspec": {
   "display_name": "Python 3",
   "language": "python",
   "name": "python3"
  },
  "language_info": {
   "codemirror_mode": {
    "name": "ipython",
    "version": 3
   },
   "file_extension": ".py",
   "mimetype": "text/x-python",
   "name": "python",
   "nbconvert_exporter": "python",
   "pygments_lexer": "ipython3",
   "version": "3.7.0"
  }
 },
 "nbformat": 4,
 "nbformat_minor": 2
}
