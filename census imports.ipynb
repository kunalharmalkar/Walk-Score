{
 "cells": [
  {
   "cell_type": "code",
   "execution_count": null,
   "metadata": {},
   "outputs": [],
   "source": [
    "# import libraries\n",
    "import geopandas as gpd\n",
    "import pandas as pd\n",
    "import numpy as np\n",
    "import cenpy as cen\n",
    "import seaborn as sns\n",
    "import matplotlib.pyplot as plt\n",
    "from shapely import wkt\n",
    "import pysal as ps\n",
    "import shapefile\n",
    "from pyproj import Proj, transform"
   ]
  },
  {
   "cell_type": "code",
   "execution_count": null,
   "metadata": {},
   "outputs": [],
   "source": [
    "#import all Seattle census tracts\n",
    "tracts = gpd.read_file(\"/Users/perryjohnson/Downloads/KingCountyTractsShapefiles/kc_tract_10.shp\")"
   ]
  },
  {
   "cell_type": "code",
   "execution_count": null,
   "metadata": {},
   "outputs": [],
   "source": [
    "#import all Seattle census population tracts\n",
    "census = gpd.read_file(\"/Users/perryjohnson/Downloads/tract10/tract10.shp\")"
   ]
  },
  {
   "cell_type": "code",
   "execution_count": null,
   "metadata": {},
   "outputs": [],
   "source": [
    "tracts['INTPTLAT10'] = tracts['INTPTLAT10'].apply(lambda x : x[1:]).astype(float)\n",
    "tracts['INTPTLON10'] = tracts['INTPTLON10'].apply(lambda x : x[1:]).astype(float)"
   ]
  },
  {
   "cell_type": "code",
   "execution_count": null,
   "metadata": {},
   "outputs": [],
   "source": [
    "# check coordinate reference systems (crs)\n",
    "print(tracts.crs)\n",
    "print(census.crs)"
   ]
  },
  {
   "cell_type": "code",
   "execution_count": null,
   "metadata": {
    "scrolled": true
   },
   "outputs": [],
   "source": [
    "# set them to same crs\n",
    "tracts = tracts.to_crs('epsg:2927');"
   ]
  },
  {
   "cell_type": "code",
   "execution_count": null,
   "metadata": {},
   "outputs": [],
   "source": [
    "columns = ['GEOID10', 'POP10',]\n",
    "cleaned_census = census[columns]"
   ]
  },
  {
   "cell_type": "code",
   "execution_count": null,
   "metadata": {},
   "outputs": [],
   "source": [
    "#merge the files\n",
    "demographics = pd.merge(cleaned_census, tracts, on='GEOID10')"
   ]
  },
  {
   "cell_type": "code",
   "execution_count": null,
   "metadata": {},
   "outputs": [],
   "source": [
    "demographics.to_csv('Data/all_demographics.csv')"
   ]
  }
 ],
 "metadata": {
  "kernelspec": {
   "display_name": "Python 3",
   "language": "python",
   "name": "python3"
  },
  "language_info": {
   "codemirror_mode": {
    "name": "ipython",
    "version": 3
   },
   "file_extension": ".py",
   "mimetype": "text/x-python",
   "name": "python",
   "nbconvert_exporter": "python",
   "pygments_lexer": "ipython3",
   "version": "3.7.0"
  }
 },
 "nbformat": 4,
 "nbformat_minor": 2
}
