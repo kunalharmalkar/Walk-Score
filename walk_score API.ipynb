{
 "cells": [
  {
   "cell_type": "code",
   "execution_count": 1,
   "metadata": {},
   "outputs": [],
   "source": [
    "# import packages\n",
    "import pandas as pd\n",
    "import json\n",
    "import requests\n",
    "import random\n",
    "import time"
   ]
  },
  {
   "cell_type": "code",
   "execution_count": 2,
   "metadata": {},
   "outputs": [],
   "source": [
    "# function to generate random lat lon coords within a closed range\n",
    "def random_coords(center_coords, count):\n",
    "    lat = []\n",
    "    lon = []\n",
    "    \n",
    "    for i in range(count):\n",
    "        #set random generator\n",
    "        lat.append(random.uniform(center_coords[0]-0.1, center_coords[0]+0.1))\n",
    "        lon.append(random.uniform(center_coords[1]-0.1, center_coords[1]+0.1))\n",
    "    \n",
    "    return lat, lon"
   ]
  },
  {
   "cell_type": "code",
   "execution_count": 3,
   "metadata": {},
   "outputs": [],
   "source": [
    "# determine center coords to be downtown Seattle\n",
    "center_coords = [47.608013, -122.335167]\n",
    "\n",
    "lat, lon = random_coords(center_coords, 1000)"
   ]
  },
  {
   "cell_type": "code",
   "execution_count": 4,
   "metadata": {},
   "outputs": [],
   "source": [
    "# set empty walk_score list\n",
    "walk_score = []\n",
    "\n",
    "apikey = 'APIKEY'\n",
    "\n",
    "\n",
    "\n",
    "for i in range(len(lat)):\n",
    "    url = 'http://api.walkscore.com/score?format=json&lat='+str(lat[i])+'&lon='+str(lon[i])+'&wsapikey='+apikey\n",
    "    r = requests.get(url)\n",
    "    data = r.json()\n",
    "    if 'walkscore' in data:\n",
    "        walk_score.append(data['walkscore'])\n",
    "    else:\n",
    "        walk_score.append('N/A')\n",
    "        \n",
    "    time.sleep(0.2)    "
   ]
  },
  {
   "cell_type": "code",
   "execution_count": 5,
   "metadata": {},
   "outputs": [],
   "source": [
    "# create dataframe\n",
    "new = pd.DataFrame(list(zip(lat, lon, walk_score)),  columns=['lat', 'lon', 'walk_score'])"
   ]
  },
  {
   "cell_type": "code",
   "execution_count": 6,
   "metadata": {},
   "outputs": [],
   "source": [
    "new.to_csv('Data/master_walk_score.csv')"
   ]
  },
  {
   "cell_type": "code",
   "execution_count": 7,
   "metadata": {},
   "outputs": [
    {
     "data": {
      "text/plain": [
       "(1000, 3)"
      ]
     },
     "execution_count": 7,
     "metadata": {},
     "output_type": "execute_result"
    }
   ],
   "source": [
    "new.shape"
   ]
  }
 ],
 "metadata": {
  "kernelspec": {
   "display_name": "Python 3",
   "language": "python",
   "name": "python3"
  },
  "language_info": {
   "codemirror_mode": {
    "name": "ipython",
    "version": 3
   },
   "file_extension": ".py",
   "mimetype": "text/x-python",
   "name": "python",
   "nbconvert_exporter": "python",
   "pygments_lexer": "ipython3",
   "version": "3.7.0"
  }
 },
 "nbformat": 4,
 "nbformat_minor": 2
}
