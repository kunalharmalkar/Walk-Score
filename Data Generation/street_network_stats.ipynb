{
 "cells": [
  {
   "cell_type": "code",
   "execution_count": 1,
   "metadata": {},
   "outputs": [],
   "source": [
    "import osmnx as ox\n",
    "import pandas as pd"
   ]
  },
  {
   "cell_type": "code",
   "execution_count": null,
   "metadata": {},
   "outputs": [],
   "source": [
    "G = ox.graph_from_place('Seattle, Washington', network_type='walk')\n",
    "ox.plot_graph(G)"
   ]
  },
  {
   "cell_type": "code",
   "execution_count": null,
   "metadata": {},
   "outputs": [],
   "source": [
    "df = pd.read_csv('Data/master_walk_score.csv', index_col=0)"
   ]
  },
  {
   "cell_type": "code",
   "execution_count": null,
   "metadata": {},
   "outputs": [],
   "source": [
    "# number of intersections in graph, that is, nodes with >1 street emanating from them\n",
    "intersection_count = []\n",
    "\n",
    "#how many streets (edges in the undirected representation of the graph) emanate from each node (ie,intersection or dead-end) on average (mean)\n",
    "streets_per_node_avg = []\n",
    "\n",
    "# edge_length_total divided by the sum of the great circle distances between the nodes of each edge\n",
    "circuity_avg = []\n",
    "\n",
    "# mean edge length in the undirected representation of the graph, in meters\n",
    "street_length_avg = []\n",
    "\n",
    "\n",
    "## Street network within 0.25km of the lat-lon point\n",
    "for i in range(len(df['lat'])):\n",
    "    try:\n",
    "        G = ox.graph_from_point((df['lat'][i], df['lon'][i]), distance=250, network_type='walk')\n",
    "        stats = ox.basic_stats(G)\n",
    "        intersection_count.append(stats['intersection_count'])\n",
    "        streets_per_node_avg.append(stats['streets_per_node_avg'])\n",
    "        circuity_avg.append(stats['circuity_avg'])\n",
    "        street_length_avg.append(stats['street_length_avg'])\n",
    "    except:\n",
    "        intersection_count.append(0)\n",
    "        streets_per_node_avg.append(0)\n",
    "        circuity_avg.append(0)\n",
    "        street_length_avg.append(0)\n",
    "        \n",
    "df['intersection_count'] = intersection_count\n",
    "df['streets_per_node_avg'] = streets_per_node_avg\n",
    "df['circuity_avg'] = circuity_avg\n",
    "df['street_length_avg'] = street_length_avg  "
   ]
  },
  {
   "cell_type": "code",
   "execution_count": null,
   "metadata": {},
   "outputs": [],
   "source": []
  },
  {
   "cell_type": "code",
   "execution_count": null,
   "metadata": {},
   "outputs": [],
   "source": []
  },
  {
   "cell_type": "code",
   "execution_count": null,
   "metadata": {},
   "outputs": [],
   "source": []
  },
  {
   "cell_type": "code",
   "execution_count": 15,
   "metadata": {},
   "outputs": [],
   "source": []
  },
  {
   "cell_type": "code",
   "execution_count": null,
   "metadata": {},
   "outputs": [],
   "source": []
  },
  {
   "cell_type": "code",
   "execution_count": null,
   "metadata": {},
   "outputs": [],
   "source": []
  },
  {
   "cell_type": "code",
   "execution_count": null,
   "metadata": {
    "scrolled": true
   },
   "outputs": [],
   "source": []
  },
  {
   "cell_type": "code",
   "execution_count": 20,
   "metadata": {},
   "outputs": [],
   "source": []
  }
 ],
 "metadata": {
  "kernelspec": {
   "display_name": "Python 3",
   "language": "python",
   "name": "python3"
  },
  "language_info": {
   "codemirror_mode": {
    "name": "ipython",
    "version": 3
   },
   "file_extension": ".py",
   "mimetype": "text/x-python",
   "name": "python",
   "nbconvert_exporter": "python",
   "pygments_lexer": "ipython3",
   "version": "3.7.0"
  }
 },
 "nbformat": 4,
 "nbformat_minor": 2
}
