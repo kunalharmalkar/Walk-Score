{
 "cells": [
  {
   "cell_type": "code",
   "execution_count": 1,
   "metadata": {},
   "outputs": [
    {
     "name": "stderr",
     "output_type": "stream",
     "text": [
      "/Users/perryjohnson/anaconda3/lib/python3.7/site-packages/pysal/model/spvcm/abstracts.py:10: UserWarning: The `dill` module is required to use the sqlite backend fully.\n",
      "  from .sqlite import head_to_sql, start_sql\n"
     ]
    }
   ],
   "source": [
    "# import libraries\n",
    "import geopandas as gpd\n",
    "import pandas as pd\n",
    "import numpy as np\n",
    "import seaborn as sns\n",
    "import time\n",
    "import json\n",
    "import matplotlib.pyplot as plt\n",
    "from shapely import wkt\n",
    "import pysal as ps\n",
    "import shapefile\n",
    "import censusdata\n",
    "import censusgeocode as cg\n",
    "import requests"
   ]
  },
  {
   "cell_type": "code",
   "execution_count": 2,
   "metadata": {},
   "outputs": [],
   "source": [
    "coords = pd.read_csv('Data/master_walk_score.csv', index_col=0)"
   ]
  },
  {
   "cell_type": "code",
   "execution_count": null,
   "metadata": {},
   "outputs": [],
   "source": [
    "GEOID = []\n",
    "for i in range(len(coords)):\n",
    "    url = 'https://geocoding.geo.census.gov/geocoder/geographies/coordinates?x='+str(coords.lon[i])+'&y='+str(coords.lat[i])+'&benchmark=Public_AR_ACS2018&vintage=Current_ACS2018&format=json'\n",
    "    r = requests.get(url)\n",
    "    data = r.json()\n",
    "    if 'GEOID' in data['result']['geographies']['Census Tracts'][0]:\n",
    "        tag = data['result']['geographies']['Census Tracts'][0]['GEOID']\n",
    "    else:\n",
    "        tag = 'N/A'\n",
    "        \n",
    "    GEOID.append(tag)\n",
    "    \n",
    "coords['GEOID'] = GEOID"
   ]
  },
  {
   "cell_type": "code",
   "execution_count": null,
   "metadata": {},
   "outputs": [],
   "source": [
    "censusdata.download('acs5', 2015, censusdata.censusgeo([('state', '53'), ('county', '033'), ('block group', '*')]), ['B01001_001E', 'B01002_001E', 'B19013_001E'])"
   ]
  },
  {
   "cell_type": "code",
   "execution_count": null,
   "metadata": {},
   "outputs": [],
   "source": [
    "censusdata.geographies(censusdata.censusgeo([('state', '53'), ('county', '033')]), 'acs5', 2017)"
   ]
  },
  {
   "cell_type": "code",
   "execution_count": null,
   "metadata": {},
   "outputs": [],
   "source": [
    "# Download ACS 2013-2017 5-year estimates for King County, Washington.\n",
    "kingcounty = censusdata.download('acs5', 2017, censusdata.censusgeo([('state', '53'), ('county', '033'), ('block group', '*')]),\n",
    "                                   ['B01001_001E', 'B01001_020E', 'B01001_021E', 'B01001_022E', 'B01001_023E',\n",
    "                                    'B01001_024E', 'B01001_025E', 'B01001_044E', 'B01001_045E', 'B01001_046E',\n",
    "                                    'B01001_047E', 'B01001_048E', 'B01001_049E'])"
   ]
  },
  {
   "cell_type": "code",
   "execution_count": null,
   "metadata": {},
   "outputs": [],
   "source": [
    "# export census dataframe\n",
    "censusdata.export.exportcsv('sea_census.csv', kingcounty)"
   ]
  }
 ],
 "metadata": {
  "kernelspec": {
   "display_name": "Python 3",
   "language": "python",
   "name": "python3"
  },
  "language_info": {
   "codemirror_mode": {
    "name": "ipython",
    "version": 3
   },
   "file_extension": ".py",
   "mimetype": "text/x-python",
   "name": "python",
   "nbconvert_exporter": "python",
   "pygments_lexer": "ipython3",
   "version": "3.7.0"
  }
 },
 "nbformat": 4,
 "nbformat_minor": 2
}
